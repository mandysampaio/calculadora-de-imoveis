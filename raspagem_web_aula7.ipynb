{
  "nbformat": 4,
  "nbformat_minor": 0,
  "metadata": {
    "colab": {
      "name": "raspagem_web_aula7.ipynb",
      "provenance": [],
      "collapsed_sections": [],
      "toc_visible": true,
      "include_colab_link": true
    },
    "kernelspec": {
      "name": "python3",
      "display_name": "Python 3"
    }
  },
  "cells": [
    {
      "cell_type": "markdown",
      "metadata": {
        "id": "view-in-github",
        "colab_type": "text"
      },
      "source": [
        "<a href=\"https://colab.research.google.com/github/mandysampaio/calculadora-de-imoveis/blob/main/raspagem_web_aula7.ipynb\" target=\"_parent\"><img src=\"https://colab.research.google.com/assets/colab-badge.svg\" alt=\"Open In Colab\"/></a>"
      ]
    },
    {
      "cell_type": "markdown",
      "metadata": {
        "id": "nLcrIAc2haMo"
      },
      "source": [
        "## Coleta de dados para a calculadora de imóveis"
      ]
    },
    {
      "cell_type": "code",
      "metadata": {
        "id": "wA0FBOb1g2zH"
      },
      "source": [
        "import requests"
      ],
      "execution_count": 1,
      "outputs": []
    },
    {
      "cell_type": "code",
      "metadata": {
        "id": "k0Amrg6di4HZ"
      },
      "source": [
        "url_ml = 'https://imoveis.mercadolivre.com.br/apartamentos/aluguel/sao-paulo/'"
      ],
      "execution_count": 2,
      "outputs": []
    },
    {
      "cell_type": "code",
      "metadata": {
        "id": "lJ3vHJsijGQ9"
      },
      "source": [
        "resposta = requests.get(url_ml).content"
      ],
      "execution_count": 3,
      "outputs": []
    },
    {
      "cell_type": "code",
      "metadata": {
        "id": "b6VvTuf7jVTs"
      },
      "source": [
        "from bs4 import BeautifulSoup"
      ],
      "execution_count": 4,
      "outputs": []
    },
    {
      "cell_type": "code",
      "metadata": {
        "id": "dJqqWA_rklPl"
      },
      "source": [
        "sopa = BeautifulSoup(resposta)"
      ],
      "execution_count": 5,
      "outputs": []
    },
    {
      "cell_type": "code",
      "metadata": {
        "colab": {
          "base_uri": "https://localhost:8080/",
          "height": 35
        },
        "id": "kZr-oNl4k8OM",
        "outputId": "f7776aec-65f2-46cc-f440-a7baa3ef2b57"
      },
      "source": [
        "# buscando apenas 1 elemento na sopa\n",
        "sopa.find('span', {'class':'price-tag-fraction'}).text"
      ],
      "execution_count": 6,
      "outputs": [
        {
          "output_type": "execute_result",
          "data": {
            "application/vnd.google.colaboratory.intrinsic+json": {
              "type": "string"
            },
            "text/plain": [
              "'768'"
            ]
          },
          "metadata": {
            "tags": []
          },
          "execution_count": 6
        }
      ]
    },
    {
      "cell_type": "code",
      "metadata": {
        "id": "4wW9JJlyoyz9"
      },
      "source": [
        "# queremos pegar só o preço de cada elemento do result set que volta da busca da sopa\n",
        "# só que não conseguimos extrair direto do result set, precisamos fazer um loop\n",
        "# sopa.find_all('span', {'class': 'price-tag-fraction'}).text"
      ],
      "execution_count": 7,
      "outputs": []
    },
    {
      "cell_type": "code",
      "metadata": {
        "id": "3mKG_CzPlAUM"
      },
      "source": [
        "result_set_precos = sopa.find_all('span', {'class': 'price-tag-fraction'})\n",
        "lista_precos = []\n",
        "\n",
        "for elemento in result_set_precos:\n",
        "  lista_precos.append(elemento.text)"
      ],
      "execution_count": 8,
      "outputs": []
    },
    {
      "cell_type": "code",
      "metadata": {
        "colab": {
          "base_uri": "https://localhost:8080/"
        },
        "id": "pmfG5HzMm5bu",
        "outputId": "dc47e03d-3eb2-471b-b479-7fd958cfb407"
      },
      "source": [
        "lista_precos[:5]"
      ],
      "execution_count": 9,
      "outputs": [
        {
          "output_type": "execute_result",
          "data": {
            "text/plain": [
              "['768', '800', '676', '612', '900']"
            ]
          },
          "metadata": {
            "tags": []
          },
          "execution_count": 9
        }
      ]
    },
    {
      "cell_type": "markdown",
      "metadata": {
        "id": "u8pSGpKZpmWG"
      },
      "source": [
        " ## Tarefa:\n",
        " - Fazer o mesmo para áreas e quartos.\n",
        " - Se quiser, também fazer para as zonas e mais de uma página do Mercado Livre - as primeiras 5 ou 6 páginas.\n",
        " - Se quiserem coletar dados de outras cidades, zonas, de casas, fica a critério de vocês."
      ]
    },
    {
      "cell_type": "code",
      "metadata": {
        "id": "5DvHeAHBoOP5"
      },
      "source": [
        "lista_area_quartos = []"
      ],
      "execution_count": 10,
      "outputs": []
    },
    {
      "cell_type": "code",
      "metadata": {
        "id": "TasBve-VwQS4"
      },
      "source": [
        "result_set_area_quartos = sopa.find_all('ul', class_='ui-search-card-attributes ui-search-item__group__element')\n",
        "\n",
        "for elemento in result_set_area_quartos:\n",
        "  lista_area_quartos.append(elemento.text)"
      ],
      "execution_count": 11,
      "outputs": []
    },
    {
      "cell_type": "code",
      "metadata": {
        "id": "qCMD-HgFwwOn",
        "colab": {
          "base_uri": "https://localhost:8080/"
        },
        "outputId": "ec222291-cad7-4a7a-84a1-dabd8a4b3ee0"
      },
      "source": [
        "lista_area_quartos[:5]"
      ],
      "execution_count": 12,
      "outputs": [
        {
          "output_type": "execute_result",
          "data": {
            "text/plain": [
              "['50 m² construídos1 quarto',\n",
              " '52 m² construídos2 quartos',\n",
              " '30 m² construídos2 quartos',\n",
              " '50 m² construídos1 quarto',\n",
              " '65 m² construídos2 quartos']"
            ]
          },
          "metadata": {
            "tags": []
          },
          "execution_count": 12
        }
      ]
    },
    {
      "cell_type": "code",
      "metadata": {
        "id": "wt9q6_VRjgpO"
      },
      "source": [
        "result_set_enderecos = sopa.find_all('span', class_='ui-search-item__group__element ui-search-item__location')"
      ],
      "execution_count": 13,
      "outputs": []
    },
    {
      "cell_type": "code",
      "metadata": {
        "colab": {
          "base_uri": "https://localhost:8080/"
        },
        "id": "kAdS1mtDjq3M",
        "outputId": "a0db7696-4e56-4d8b-b9a9-03e337733dfb"
      },
      "source": [
        "result_set_enderecos[:5]"
      ],
      "execution_count": 14,
      "outputs": [
        {
          "output_type": "execute_result",
          "data": {
            "text/plain": [
              "[<span class=\"ui-search-item__group__element ui-search-item__location\">Rua Pereira Barreto, Gonzaga, Santos, São Paulo</span>,\n",
              " <span class=\"ui-search-item__group__element ui-search-item__location\">Avenida Senador Ricardo Batista, Assunção, São Bernardo Do Campo, São Paulo</span>,\n",
              " <span class=\"ui-search-item__group__element ui-search-item__location\">Rua Conceição Dos Ouros, Parque Boturussu, São Paulo Zona Leste, São Paulo</span>,\n",
              " <span class=\"ui-search-item__group__element ui-search-item__location\">Rua Madrigais, Vila Nova Cachoeirinha, São Paulo Zona Norte, São Paulo</span>,\n",
              " <span class=\"ui-search-item__group__element ui-search-item__location\">Avenida Manoel Dos Santos Braga, Vila Robertina, São Paulo Zona Leste, São Paulo</span>]"
            ]
          },
          "metadata": {
            "tags": []
          },
          "execution_count": 14
        }
      ]
    },
    {
      "cell_type": "code",
      "metadata": {
        "colab": {
          "base_uri": "https://localhost:8080/",
          "height": 35
        },
        "id": "7-EOFi76jh20",
        "outputId": "bbe495b2-a33d-47b2-a534-70c52c311ad0"
      },
      "source": [
        "result_set_enderecos[0].text"
      ],
      "execution_count": 15,
      "outputs": [
        {
          "output_type": "execute_result",
          "data": {
            "application/vnd.google.colaboratory.intrinsic+json": {
              "type": "string"
            },
            "text/plain": [
              "'Rua Pereira Barreto, Gonzaga, Santos, São Paulo'"
            ]
          },
          "metadata": {
            "tags": []
          },
          "execution_count": 15
        }
      ]
    },
    {
      "cell_type": "markdown",
      "metadata": {
        "id": "zhBb0cxMj6mG"
      },
      "source": [
        "# Coleta de dados de diferentes zonas e páginas"
      ]
    },
    {
      "cell_type": "code",
      "metadata": {
        "id": "PdNq3ma5yWpX"
      },
      "source": [
        "# para cada link fazer o request\n",
        "# para o request pegar a sopa\n",
        "# para a sopa extrair as listas (area_quartos, preco, zona, endereco (opcional))\n",
        "# colocar as listas em um dataFrame (tabelinha)"
      ],
      "execution_count": 16,
      "outputs": []
    },
    {
      "cell_type": "code",
      "metadata": {
        "id": "5qL9EBETqCBL"
      },
      "source": [
        "import pandas as pd\n",
        "import requests\n",
        "import numpy as np\n",
        "from bs4 import BeautifulSoup\n",
        "from time import sleep"
      ],
      "execution_count": 17,
      "outputs": []
    },
    {
      "cell_type": "code",
      "metadata": {
        "id": "17S5C69vyJHK"
      },
      "source": [
        "zonas = ['sul', 'oeste', 'leste', 'norte']"
      ],
      "execution_count": 18,
      "outputs": []
    },
    {
      "cell_type": "code",
      "metadata": {
        "id": "mltYl7Dny8T-"
      },
      "source": [
        "paginas = ['', '_Desde_49', '_Desde_97', '_Desde_145', '_Desde_193']"
      ],
      "execution_count": 19,
      "outputs": []
    },
    {
      "cell_type": "code",
      "metadata": {
        "id": "K8MKlRK0sutM"
      },
      "source": [
        "def coletando_dados(url, zona):\n",
        "\n",
        "  resposta = requests.get(url).content\n",
        "  sopa = BeautifulSoup(resposta)\n",
        "\n",
        "  result_set_precos = sopa.find_all('span', {'class': 'price-tag-fraction'})\n",
        "  result_set_area_quartos = sopa.find_all('ul', class_='ui-search-card-attributes ui-search-item__group__element')\n",
        "  result_set_enderecos = sopa.find_all('span', class_='ui-search-item__group__element ui-search-item__location')\n",
        "\n",
        "  lista_precos = []\n",
        "  lista_area_quartos = []\n",
        "  lista_enderecos = []\n",
        "  lista_zonas = []\n",
        "\n",
        "  for preco, area_quarto, endereco in zip(result_set_precos, result_set_area_quartos, result_set_enderecos):\n",
        "    lista_precos.append(preco.text)\n",
        "    lista_area_quartos.append(area_quarto.text)\n",
        "    lista_enderecos.append(endereco.text)\n",
        "    lista_zonas.append(zona)\n",
        "    \n",
        "  dados = {'zonas': lista_zonas,\n",
        "           'areas_quartos': lista_area_quartos,\n",
        "           'enderecos': lista_enderecos,\n",
        "           'precos': lista_precos}\n",
        "\n",
        "  df = pd.DataFrame(dados)\n",
        "  return df"
      ],
      "execution_count": 20,
      "outputs": []
    },
    {
      "cell_type": "code",
      "metadata": {
        "id": "T8PAdLdbhZcR"
      },
      "source": [
        "# # exemplo de try except\n",
        "# try:\n",
        "#   for elemento ...\n",
        "# except:\n",
        "#   print('deu ruim')"
      ],
      "execution_count": 21,
      "outputs": []
    },
    {
      "cell_type": "code",
      "metadata": {
        "colab": {
          "base_uri": "https://localhost:8080/"
        },
        "id": "8FHLB4IaxRDl",
        "outputId": "26181ffb-fb0a-4c5a-e9f8-16e1106639f3"
      },
      "source": [
        "lista_dados = []\n",
        "\n",
        "for zona in zonas:\n",
        "  for pagina in paginas:\n",
        "    url = f'https://imoveis.mercadolivre.com.br/apartamentos/aluguel/sao-paulo/sao-paulo-zona-{zona}/{pagina}'\n",
        "    print('Coletando dados de', url)\n",
        "    df = coletando_dados(url, zona)\n",
        "    lista_dados.append(df)\n",
        "    sleep(2) # lembrar de usar sleep para não sobrecarregar o site de acessos\n",
        "print('Dados coletados!')"
      ],
      "execution_count": 22,
      "outputs": [
        {
          "output_type": "stream",
          "text": [
            "Coletando dados de https://imoveis.mercadolivre.com.br/apartamentos/aluguel/sao-paulo/sao-paulo-zona-sul/\n",
            "Coletando dados de https://imoveis.mercadolivre.com.br/apartamentos/aluguel/sao-paulo/sao-paulo-zona-sul/_Desde_49\n",
            "Coletando dados de https://imoveis.mercadolivre.com.br/apartamentos/aluguel/sao-paulo/sao-paulo-zona-sul/_Desde_97\n",
            "Coletando dados de https://imoveis.mercadolivre.com.br/apartamentos/aluguel/sao-paulo/sao-paulo-zona-sul/_Desde_145\n",
            "Coletando dados de https://imoveis.mercadolivre.com.br/apartamentos/aluguel/sao-paulo/sao-paulo-zona-sul/_Desde_193\n",
            "Coletando dados de https://imoveis.mercadolivre.com.br/apartamentos/aluguel/sao-paulo/sao-paulo-zona-oeste/\n",
            "Coletando dados de https://imoveis.mercadolivre.com.br/apartamentos/aluguel/sao-paulo/sao-paulo-zona-oeste/_Desde_49\n",
            "Coletando dados de https://imoveis.mercadolivre.com.br/apartamentos/aluguel/sao-paulo/sao-paulo-zona-oeste/_Desde_97\n",
            "Coletando dados de https://imoveis.mercadolivre.com.br/apartamentos/aluguel/sao-paulo/sao-paulo-zona-oeste/_Desde_145\n",
            "Coletando dados de https://imoveis.mercadolivre.com.br/apartamentos/aluguel/sao-paulo/sao-paulo-zona-oeste/_Desde_193\n",
            "Coletando dados de https://imoveis.mercadolivre.com.br/apartamentos/aluguel/sao-paulo/sao-paulo-zona-leste/\n",
            "Coletando dados de https://imoveis.mercadolivre.com.br/apartamentos/aluguel/sao-paulo/sao-paulo-zona-leste/_Desde_49\n",
            "Coletando dados de https://imoveis.mercadolivre.com.br/apartamentos/aluguel/sao-paulo/sao-paulo-zona-leste/_Desde_97\n",
            "Coletando dados de https://imoveis.mercadolivre.com.br/apartamentos/aluguel/sao-paulo/sao-paulo-zona-leste/_Desde_145\n",
            "Coletando dados de https://imoveis.mercadolivre.com.br/apartamentos/aluguel/sao-paulo/sao-paulo-zona-leste/_Desde_193\n",
            "Coletando dados de https://imoveis.mercadolivre.com.br/apartamentos/aluguel/sao-paulo/sao-paulo-zona-norte/\n",
            "Coletando dados de https://imoveis.mercadolivre.com.br/apartamentos/aluguel/sao-paulo/sao-paulo-zona-norte/_Desde_49\n",
            "Coletando dados de https://imoveis.mercadolivre.com.br/apartamentos/aluguel/sao-paulo/sao-paulo-zona-norte/_Desde_97\n",
            "Coletando dados de https://imoveis.mercadolivre.com.br/apartamentos/aluguel/sao-paulo/sao-paulo-zona-norte/_Desde_145\n",
            "Coletando dados de https://imoveis.mercadolivre.com.br/apartamentos/aluguel/sao-paulo/sao-paulo-zona-norte/_Desde_193\n",
            "Dados coletados!\n"
          ],
          "name": "stdout"
        }
      ]
    },
    {
      "cell_type": "code",
      "metadata": {
        "colab": {
          "base_uri": "https://localhost:8080/",
          "height": 419
        },
        "id": "3Thf62vZrHJu",
        "outputId": "0e34b267-c576-4da7-ddbd-a6e3eb3d6bea"
      },
      "source": [
        "df_dados = pd.concat(lista_dados)\n",
        "df_dados"
      ],
      "execution_count": 23,
      "outputs": [
        {
          "output_type": "execute_result",
          "data": {
            "text/html": [
              "<div>\n",
              "<style scoped>\n",
              "    .dataframe tbody tr th:only-of-type {\n",
              "        vertical-align: middle;\n",
              "    }\n",
              "\n",
              "    .dataframe tbody tr th {\n",
              "        vertical-align: top;\n",
              "    }\n",
              "\n",
              "    .dataframe thead th {\n",
              "        text-align: right;\n",
              "    }\n",
              "</style>\n",
              "<table border=\"1\" class=\"dataframe\">\n",
              "  <thead>\n",
              "    <tr style=\"text-align: right;\">\n",
              "      <th></th>\n",
              "      <th>zonas</th>\n",
              "      <th>areas_quartos</th>\n",
              "      <th>enderecos</th>\n",
              "      <th>precos</th>\n",
              "    </tr>\n",
              "  </thead>\n",
              "  <tbody>\n",
              "    <tr>\n",
              "      <th>0</th>\n",
              "      <td>sul</td>\n",
              "      <td>90 m² construídos3 quartos</td>\n",
              "      <td>Rua Doutor Ferreira Lopes, Vila Sofia, São Pau...</td>\n",
              "      <td>1.100</td>\n",
              "    </tr>\n",
              "    <tr>\n",
              "      <th>1</th>\n",
              "      <td>sul</td>\n",
              "      <td>63 m² construídos3 quartos</td>\n",
              "      <td>Avenida Dos Ourives, Jardim São Savério, São P...</td>\n",
              "      <td>1.000</td>\n",
              "    </tr>\n",
              "    <tr>\n",
              "      <th>2</th>\n",
              "      <td>sul</td>\n",
              "      <td>68 m² construídos2 quartos</td>\n",
              "      <td>Rua Doutor Nicolau Alberto Defina, Jardim Da S...</td>\n",
              "      <td>1.224</td>\n",
              "    </tr>\n",
              "    <tr>\n",
              "      <th>3</th>\n",
              "      <td>sul</td>\n",
              "      <td>48 m² construídos2 quartos</td>\n",
              "      <td>Avenida Carlos Liviero, Vila Liviero, São Paul...</td>\n",
              "      <td>1.300</td>\n",
              "    </tr>\n",
              "    <tr>\n",
              "      <th>4</th>\n",
              "      <td>sul</td>\n",
              "      <td>40 m² construídos1 quarto</td>\n",
              "      <td>Rua Armando Ramos Filho, Moinho Velho, São Pau...</td>\n",
              "      <td>830</td>\n",
              "    </tr>\n",
              "    <tr>\n",
              "      <th>...</th>\n",
              "      <td>...</td>\n",
              "      <td>...</td>\n",
              "      <td>...</td>\n",
              "      <td>...</td>\n",
              "    </tr>\n",
              "    <tr>\n",
              "      <th>43</th>\n",
              "      <td>norte</td>\n",
              "      <td>71 m² construídos3 quartos</td>\n",
              "      <td>Avenida Ministro Petrônio Portela, Vila Amélia...</td>\n",
              "      <td>1.900</td>\n",
              "    </tr>\n",
              "    <tr>\n",
              "      <th>44</th>\n",
              "      <td>norte</td>\n",
              "      <td>100 m² construídos3 quartos</td>\n",
              "      <td>Rua Pedro Doll, Santana, São Paulo Zona Norte,...</td>\n",
              "      <td>1.960</td>\n",
              "    </tr>\n",
              "    <tr>\n",
              "      <th>45</th>\n",
              "      <td>norte</td>\n",
              "      <td>50 m² construídos2 quartos</td>\n",
              "      <td>Rua Manguari, Jardim Andaraí, São Paulo Zona N...</td>\n",
              "      <td>1.360</td>\n",
              "    </tr>\n",
              "    <tr>\n",
              "      <th>46</th>\n",
              "      <td>norte</td>\n",
              "      <td>59 m² construídos3 quartos</td>\n",
              "      <td>Rua Itaici, Santa Teresinha, São Paulo Zona No...</td>\n",
              "      <td>2.120</td>\n",
              "    </tr>\n",
              "    <tr>\n",
              "      <th>47</th>\n",
              "      <td>norte</td>\n",
              "      <td>51 m² construídos2 quartos</td>\n",
              "      <td>Rua Antônio Campêlo, Vila Vitório Mazzei, São ...</td>\n",
              "      <td>1.550</td>\n",
              "    </tr>\n",
              "  </tbody>\n",
              "</table>\n",
              "<p>960 rows × 4 columns</p>\n",
              "</div>"
            ],
            "text/plain": [
              "    zonas  ... precos\n",
              "0     sul  ...  1.100\n",
              "1     sul  ...  1.000\n",
              "2     sul  ...  1.224\n",
              "3     sul  ...  1.300\n",
              "4     sul  ...    830\n",
              "..    ...  ...    ...\n",
              "43  norte  ...  1.900\n",
              "44  norte  ...  1.960\n",
              "45  norte  ...  1.360\n",
              "46  norte  ...  2.120\n",
              "47  norte  ...  1.550\n",
              "\n",
              "[960 rows x 4 columns]"
            ]
          },
          "metadata": {
            "tags": []
          },
          "execution_count": 23
        }
      ]
    },
    {
      "cell_type": "code",
      "metadata": {
        "id": "9gYYw39avUBU"
      },
      "source": [
        "df_dados.to_csv('dados_mercado_livre.csv', index=False) # index=False para tirar o unnamed - coluna adicional de indices"
      ],
      "execution_count": 24,
      "outputs": []
    },
    {
      "cell_type": "markdown",
      "metadata": {
        "id": "vcwbigog6gEu"
      },
      "source": [
        "# Manipulando o dataframe"
      ]
    },
    {
      "cell_type": "code",
      "metadata": {
        "id": "5O0m8U5I6m7Q"
      },
      "source": [
        "import re"
      ],
      "execution_count": 25,
      "outputs": []
    },
    {
      "cell_type": "code",
      "metadata": {
        "id": "RqNgC6lxvmD1"
      },
      "source": [
        "df_ml = pd.read_csv('dados_mercado_livre.csv', thousands='.')"
      ],
      "execution_count": 26,
      "outputs": []
    },
    {
      "cell_type": "code",
      "metadata": {
        "colab": {
          "base_uri": "https://localhost:8080/",
          "height": 204
        },
        "id": "JbhxyA2DkvwQ",
        "outputId": "67924cd3-f940-42bc-8d6a-b69d2a275df6"
      },
      "source": [
        "df_ml.head()"
      ],
      "execution_count": 27,
      "outputs": [
        {
          "output_type": "execute_result",
          "data": {
            "text/html": [
              "<div>\n",
              "<style scoped>\n",
              "    .dataframe tbody tr th:only-of-type {\n",
              "        vertical-align: middle;\n",
              "    }\n",
              "\n",
              "    .dataframe tbody tr th {\n",
              "        vertical-align: top;\n",
              "    }\n",
              "\n",
              "    .dataframe thead th {\n",
              "        text-align: right;\n",
              "    }\n",
              "</style>\n",
              "<table border=\"1\" class=\"dataframe\">\n",
              "  <thead>\n",
              "    <tr style=\"text-align: right;\">\n",
              "      <th></th>\n",
              "      <th>zonas</th>\n",
              "      <th>areas_quartos</th>\n",
              "      <th>enderecos</th>\n",
              "      <th>precos</th>\n",
              "    </tr>\n",
              "  </thead>\n",
              "  <tbody>\n",
              "    <tr>\n",
              "      <th>0</th>\n",
              "      <td>sul</td>\n",
              "      <td>90 m² construídos3 quartos</td>\n",
              "      <td>Rua Doutor Ferreira Lopes, Vila Sofia, São Pau...</td>\n",
              "      <td>1100</td>\n",
              "    </tr>\n",
              "    <tr>\n",
              "      <th>1</th>\n",
              "      <td>sul</td>\n",
              "      <td>63 m² construídos3 quartos</td>\n",
              "      <td>Avenida Dos Ourives, Jardim São Savério, São P...</td>\n",
              "      <td>1000</td>\n",
              "    </tr>\n",
              "    <tr>\n",
              "      <th>2</th>\n",
              "      <td>sul</td>\n",
              "      <td>68 m² construídos2 quartos</td>\n",
              "      <td>Rua Doutor Nicolau Alberto Defina, Jardim Da S...</td>\n",
              "      <td>1224</td>\n",
              "    </tr>\n",
              "    <tr>\n",
              "      <th>3</th>\n",
              "      <td>sul</td>\n",
              "      <td>48 m² construídos2 quartos</td>\n",
              "      <td>Avenida Carlos Liviero, Vila Liviero, São Paul...</td>\n",
              "      <td>1300</td>\n",
              "    </tr>\n",
              "    <tr>\n",
              "      <th>4</th>\n",
              "      <td>sul</td>\n",
              "      <td>40 m² construídos1 quarto</td>\n",
              "      <td>Rua Armando Ramos Filho, Moinho Velho, São Pau...</td>\n",
              "      <td>830</td>\n",
              "    </tr>\n",
              "  </tbody>\n",
              "</table>\n",
              "</div>"
            ],
            "text/plain": [
              "  zonas  ... precos\n",
              "0   sul  ...   1100\n",
              "1   sul  ...   1000\n",
              "2   sul  ...   1224\n",
              "3   sul  ...   1300\n",
              "4   sul  ...    830\n",
              "\n",
              "[5 rows x 4 columns]"
            ]
          },
          "metadata": {
            "tags": []
          },
          "execution_count": 27
        }
      ]
    },
    {
      "cell_type": "code",
      "metadata": {
        "colab": {
          "base_uri": "https://localhost:8080/"
        },
        "id": "nYIKoTbMxxVX",
        "outputId": "4a6e27ec-1c24-4fa1-97fc-1138a88a2809"
      },
      "source": [
        "df_ml.info()"
      ],
      "execution_count": 28,
      "outputs": [
        {
          "output_type": "stream",
          "text": [
            "<class 'pandas.core.frame.DataFrame'>\n",
            "RangeIndex: 960 entries, 0 to 959\n",
            "Data columns (total 4 columns):\n",
            " #   Column         Non-Null Count  Dtype \n",
            "---  ------         --------------  ----- \n",
            " 0   zonas          960 non-null    object\n",
            " 1   areas_quartos  960 non-null    object\n",
            " 2   enderecos      960 non-null    object\n",
            " 3   precos         960 non-null    int64 \n",
            "dtypes: int64(1), object(3)\n",
            "memory usage: 30.1+ KB\n"
          ],
          "name": "stdout"
        }
      ]
    },
    {
      "cell_type": "code",
      "metadata": {
        "colab": {
          "base_uri": "https://localhost:8080/",
          "height": 35
        },
        "id": "Whh55JZ1zNNi",
        "outputId": "e8b849f9-4a56-41a9-a3fc-7a2b1b263db7"
      },
      "source": [
        "linha_0 = df_ml['areas_quartos'][0]\n",
        "linha_0"
      ],
      "execution_count": 29,
      "outputs": [
        {
          "output_type": "execute_result",
          "data": {
            "application/vnd.google.colaboratory.intrinsic+json": {
              "type": "string"
            },
            "text/plain": [
              "'90 m² construídos3 quartos'"
            ]
          },
          "metadata": {
            "tags": []
          },
          "execution_count": 29
        }
      ]
    },
    {
      "cell_type": "code",
      "metadata": {
        "id": "qg7aWCAV0VUh"
      },
      "source": [
        "# quando não temos a área\n",
        "linha_0_va = '2 quartos'"
      ],
      "execution_count": 30,
      "outputs": []
    },
    {
      "cell_type": "code",
      "metadata": {
        "id": "z_J3zWOwx-1J"
      },
      "source": [
        "def extrair_area(entrada):\n",
        "  if 'm²' in entrada:\n",
        "    # uma solução é com o find que devolve o indíce e aí seleciona um pedaço\n",
        "    # outra solução é dividir o texto onde tem m²\n",
        "    area = entrada.split(' m²')[0]\n",
        "  else:\n",
        "    area = np.nan\n",
        "  return area"
      ],
      "execution_count": 31,
      "outputs": []
    },
    {
      "cell_type": "code",
      "metadata": {
        "colab": {
          "base_uri": "https://localhost:8080/"
        },
        "id": "e2m4q3dF0-_v",
        "outputId": "df449690-b656-40f6-c0f4-0c4b9e22114a"
      },
      "source": [
        "extrair_area(linha_0_va)"
      ],
      "execution_count": 32,
      "outputs": [
        {
          "output_type": "execute_result",
          "data": {
            "text/plain": [
              "nan"
            ]
          },
          "metadata": {
            "tags": []
          },
          "execution_count": 32
        }
      ]
    },
    {
      "cell_type": "code",
      "metadata": {
        "colab": {
          "base_uri": "https://localhost:8080/",
          "height": 35
        },
        "id": "QGvNncOU0mJc",
        "outputId": "d5640a58-44b5-4093-f3bc-910c8b2e9e21"
      },
      "source": [
        "extrair_area(linha_0)"
      ],
      "execution_count": 33,
      "outputs": [
        {
          "output_type": "execute_result",
          "data": {
            "application/vnd.google.colaboratory.intrinsic+json": {
              "type": "string"
            },
            "text/plain": [
              "'90'"
            ]
          },
          "metadata": {
            "tags": []
          },
          "execution_count": 33
        }
      ]
    },
    {
      "cell_type": "code",
      "metadata": {
        "colab": {
          "base_uri": "https://localhost:8080/"
        },
        "id": "wMDTmkMK1pAd",
        "outputId": "fc6533c8-ec5a-4e5c-e7d1-c45f8a78a634"
      },
      "source": [
        "type(np.nan) # 'curiosamente' o nan é um float"
      ],
      "execution_count": 34,
      "outputs": [
        {
          "output_type": "execute_result",
          "data": {
            "text/plain": [
              "float"
            ]
          },
          "metadata": {
            "tags": []
          },
          "execution_count": 34
        }
      ]
    },
    {
      "cell_type": "code",
      "metadata": {
        "id": "_HDGNefQ14Sf"
      },
      "source": [
        "df_ml['areas'] =  df_ml['areas_quartos'].apply(extrair_area).astype(float) # to_numeric"
      ],
      "execution_count": 35,
      "outputs": []
    },
    {
      "cell_type": "code",
      "metadata": {
        "colab": {
          "base_uri": "https://localhost:8080/",
          "height": 204
        },
        "id": "_YB2sj223RDU",
        "outputId": "6153b7c4-f11d-4534-edf2-4c35975be1d7"
      },
      "source": [
        "df_ml.head()"
      ],
      "execution_count": 36,
      "outputs": [
        {
          "output_type": "execute_result",
          "data": {
            "text/html": [
              "<div>\n",
              "<style scoped>\n",
              "    .dataframe tbody tr th:only-of-type {\n",
              "        vertical-align: middle;\n",
              "    }\n",
              "\n",
              "    .dataframe tbody tr th {\n",
              "        vertical-align: top;\n",
              "    }\n",
              "\n",
              "    .dataframe thead th {\n",
              "        text-align: right;\n",
              "    }\n",
              "</style>\n",
              "<table border=\"1\" class=\"dataframe\">\n",
              "  <thead>\n",
              "    <tr style=\"text-align: right;\">\n",
              "      <th></th>\n",
              "      <th>zonas</th>\n",
              "      <th>areas_quartos</th>\n",
              "      <th>enderecos</th>\n",
              "      <th>precos</th>\n",
              "      <th>areas</th>\n",
              "    </tr>\n",
              "  </thead>\n",
              "  <tbody>\n",
              "    <tr>\n",
              "      <th>0</th>\n",
              "      <td>sul</td>\n",
              "      <td>90 m² construídos3 quartos</td>\n",
              "      <td>Rua Doutor Ferreira Lopes, Vila Sofia, São Pau...</td>\n",
              "      <td>1100</td>\n",
              "      <td>90.0</td>\n",
              "    </tr>\n",
              "    <tr>\n",
              "      <th>1</th>\n",
              "      <td>sul</td>\n",
              "      <td>63 m² construídos3 quartos</td>\n",
              "      <td>Avenida Dos Ourives, Jardim São Savério, São P...</td>\n",
              "      <td>1000</td>\n",
              "      <td>63.0</td>\n",
              "    </tr>\n",
              "    <tr>\n",
              "      <th>2</th>\n",
              "      <td>sul</td>\n",
              "      <td>68 m² construídos2 quartos</td>\n",
              "      <td>Rua Doutor Nicolau Alberto Defina, Jardim Da S...</td>\n",
              "      <td>1224</td>\n",
              "      <td>68.0</td>\n",
              "    </tr>\n",
              "    <tr>\n",
              "      <th>3</th>\n",
              "      <td>sul</td>\n",
              "      <td>48 m² construídos2 quartos</td>\n",
              "      <td>Avenida Carlos Liviero, Vila Liviero, São Paul...</td>\n",
              "      <td>1300</td>\n",
              "      <td>48.0</td>\n",
              "    </tr>\n",
              "    <tr>\n",
              "      <th>4</th>\n",
              "      <td>sul</td>\n",
              "      <td>40 m² construídos1 quarto</td>\n",
              "      <td>Rua Armando Ramos Filho, Moinho Velho, São Pau...</td>\n",
              "      <td>830</td>\n",
              "      <td>40.0</td>\n",
              "    </tr>\n",
              "  </tbody>\n",
              "</table>\n",
              "</div>"
            ],
            "text/plain": [
              "  zonas               areas_quartos  ... precos  areas\n",
              "0   sul  90 m² construídos3 quartos  ...   1100   90.0\n",
              "1   sul  63 m² construídos3 quartos  ...   1000   63.0\n",
              "2   sul  68 m² construídos2 quartos  ...   1224   68.0\n",
              "3   sul  48 m² construídos2 quartos  ...   1300   48.0\n",
              "4   sul   40 m² construídos1 quarto  ...    830   40.0\n",
              "\n",
              "[5 rows x 5 columns]"
            ]
          },
          "metadata": {
            "tags": []
          },
          "execution_count": 36
        }
      ]
    },
    {
      "cell_type": "code",
      "metadata": {
        "colab": {
          "base_uri": "https://localhost:8080/"
        },
        "id": "MjSSlfk74GYG",
        "outputId": "15cbd473-2f91-48bb-b50e-6874d01e7d0a"
      },
      "source": [
        "df_ml.info()"
      ],
      "execution_count": 37,
      "outputs": [
        {
          "output_type": "stream",
          "text": [
            "<class 'pandas.core.frame.DataFrame'>\n",
            "RangeIndex: 960 entries, 0 to 959\n",
            "Data columns (total 5 columns):\n",
            " #   Column         Non-Null Count  Dtype  \n",
            "---  ------         --------------  -----  \n",
            " 0   zonas          960 non-null    object \n",
            " 1   areas_quartos  960 non-null    object \n",
            " 2   enderecos      960 non-null    object \n",
            " 3   precos         960 non-null    int64  \n",
            " 4   areas          960 non-null    float64\n",
            "dtypes: float64(1), int64(1), object(3)\n",
            "memory usage: 37.6+ KB\n"
          ],
          "name": "stdout"
        }
      ]
    },
    {
      "cell_type": "code",
      "metadata": {
        "id": "9EjJEjwC4Nm1"
      },
      "source": [
        "df_ml['precos'] = df_ml['precos'].astype(float)"
      ],
      "execution_count": 38,
      "outputs": []
    },
    {
      "cell_type": "code",
      "metadata": {
        "colab": {
          "base_uri": "https://localhost:8080/",
          "height": 204
        },
        "id": "SFliwQsg4VUE",
        "outputId": "041be54a-7be9-4dd0-c47a-2bc89b3fa332"
      },
      "source": [
        "df_ml.head()"
      ],
      "execution_count": 39,
      "outputs": [
        {
          "output_type": "execute_result",
          "data": {
            "text/html": [
              "<div>\n",
              "<style scoped>\n",
              "    .dataframe tbody tr th:only-of-type {\n",
              "        vertical-align: middle;\n",
              "    }\n",
              "\n",
              "    .dataframe tbody tr th {\n",
              "        vertical-align: top;\n",
              "    }\n",
              "\n",
              "    .dataframe thead th {\n",
              "        text-align: right;\n",
              "    }\n",
              "</style>\n",
              "<table border=\"1\" class=\"dataframe\">\n",
              "  <thead>\n",
              "    <tr style=\"text-align: right;\">\n",
              "      <th></th>\n",
              "      <th>zonas</th>\n",
              "      <th>areas_quartos</th>\n",
              "      <th>enderecos</th>\n",
              "      <th>precos</th>\n",
              "      <th>areas</th>\n",
              "    </tr>\n",
              "  </thead>\n",
              "  <tbody>\n",
              "    <tr>\n",
              "      <th>0</th>\n",
              "      <td>sul</td>\n",
              "      <td>90 m² construídos3 quartos</td>\n",
              "      <td>Rua Doutor Ferreira Lopes, Vila Sofia, São Pau...</td>\n",
              "      <td>1100.0</td>\n",
              "      <td>90.0</td>\n",
              "    </tr>\n",
              "    <tr>\n",
              "      <th>1</th>\n",
              "      <td>sul</td>\n",
              "      <td>63 m² construídos3 quartos</td>\n",
              "      <td>Avenida Dos Ourives, Jardim São Savério, São P...</td>\n",
              "      <td>1000.0</td>\n",
              "      <td>63.0</td>\n",
              "    </tr>\n",
              "    <tr>\n",
              "      <th>2</th>\n",
              "      <td>sul</td>\n",
              "      <td>68 m² construídos2 quartos</td>\n",
              "      <td>Rua Doutor Nicolau Alberto Defina, Jardim Da S...</td>\n",
              "      <td>1224.0</td>\n",
              "      <td>68.0</td>\n",
              "    </tr>\n",
              "    <tr>\n",
              "      <th>3</th>\n",
              "      <td>sul</td>\n",
              "      <td>48 m² construídos2 quartos</td>\n",
              "      <td>Avenida Carlos Liviero, Vila Liviero, São Paul...</td>\n",
              "      <td>1300.0</td>\n",
              "      <td>48.0</td>\n",
              "    </tr>\n",
              "    <tr>\n",
              "      <th>4</th>\n",
              "      <td>sul</td>\n",
              "      <td>40 m² construídos1 quarto</td>\n",
              "      <td>Rua Armando Ramos Filho, Moinho Velho, São Pau...</td>\n",
              "      <td>830.0</td>\n",
              "      <td>40.0</td>\n",
              "    </tr>\n",
              "  </tbody>\n",
              "</table>\n",
              "</div>"
            ],
            "text/plain": [
              "  zonas               areas_quartos  ...  precos  areas\n",
              "0   sul  90 m² construídos3 quartos  ...  1100.0   90.0\n",
              "1   sul  63 m² construídos3 quartos  ...  1000.0   63.0\n",
              "2   sul  68 m² construídos2 quartos  ...  1224.0   68.0\n",
              "3   sul  48 m² construídos2 quartos  ...  1300.0   48.0\n",
              "4   sul   40 m² construídos1 quarto  ...   830.0   40.0\n",
              "\n",
              "[5 rows x 5 columns]"
            ]
          },
          "metadata": {
            "tags": []
          },
          "execution_count": 39
        }
      ]
    },
    {
      "cell_type": "code",
      "metadata": {
        "colab": {
          "base_uri": "https://localhost:8080/"
        },
        "id": "IAGww1c24aZK",
        "outputId": "059a6225-7c58-4038-8116-1138d9bda8f1"
      },
      "source": [
        "df_ml.info()"
      ],
      "execution_count": 40,
      "outputs": [
        {
          "output_type": "stream",
          "text": [
            "<class 'pandas.core.frame.DataFrame'>\n",
            "RangeIndex: 960 entries, 0 to 959\n",
            "Data columns (total 5 columns):\n",
            " #   Column         Non-Null Count  Dtype  \n",
            "---  ------         --------------  -----  \n",
            " 0   zonas          960 non-null    object \n",
            " 1   areas_quartos  960 non-null    object \n",
            " 2   enderecos      960 non-null    object \n",
            " 3   precos         960 non-null    float64\n",
            " 4   areas          960 non-null    float64\n",
            "dtypes: float64(2), object(3)\n",
            "memory usage: 37.6+ KB\n"
          ],
          "name": "stdout"
        }
      ]
    },
    {
      "cell_type": "code",
      "metadata": {
        "colab": {
          "base_uri": "https://localhost:8080/",
          "height": 35
        },
        "id": "SxnE0NGQ4czB",
        "outputId": "48822041-5b59-488b-b059-d08fb9e3c3e9"
      },
      "source": [
        "linha_0"
      ],
      "execution_count": 41,
      "outputs": [
        {
          "output_type": "execute_result",
          "data": {
            "application/vnd.google.colaboratory.intrinsic+json": {
              "type": "string"
            },
            "text/plain": [
              "'90 m² construídos3 quartos'"
            ]
          },
          "metadata": {
            "tags": []
          },
          "execution_count": 41
        }
      ]
    },
    {
      "cell_type": "code",
      "metadata": {
        "id": "6uA3b08d4jzI"
      },
      "source": [
        "linha_0_vaq = '90 m² construídos'"
      ],
      "execution_count": 42,
      "outputs": []
    },
    {
      "cell_type": "code",
      "metadata": {
        "colab": {
          "base_uri": "https://localhost:8080/",
          "height": 35
        },
        "id": "rN-JGAFl4mSN",
        "outputId": "68fcb037-d254-4e71-efda-dea6f9dc6553"
      },
      "source": [
        "linha_0_vaq"
      ],
      "execution_count": 43,
      "outputs": [
        {
          "output_type": "execute_result",
          "data": {
            "application/vnd.google.colaboratory.intrinsic+json": {
              "type": "string"
            },
            "text/plain": [
              "'90 m² construídos'"
            ]
          },
          "metadata": {
            "tags": []
          },
          "execution_count": 43
        }
      ]
    },
    {
      "cell_type": "code",
      "metadata": {
        "id": "SOazleeJ61Xl"
      },
      "source": [
        "texto = linha_0\n",
        "padrao = '(\\d+) quarto' # regex que significa um grupo de um ou mais dígitos\n",
        "padrao1 = '(\\d+)'"
      ],
      "execution_count": 44,
      "outputs": []
    },
    {
      "cell_type": "code",
      "metadata": {
        "colab": {
          "base_uri": "https://localhost:8080/"
        },
        "id": "wsVKU3Ly8lbu",
        "outputId": "7ead4cc4-68f8-45cc-ae0a-bc14ffe34282"
      },
      "source": [
        "re.findall(padrao1, texto) # exemplo - aqui já podemos checar e dividir direto em areas e quartos"
      ],
      "execution_count": 45,
      "outputs": [
        {
          "output_type": "execute_result",
          "data": {
            "text/plain": [
              "['90', '3']"
            ]
          },
          "metadata": {
            "tags": []
          },
          "execution_count": 45
        }
      ]
    },
    {
      "cell_type": "code",
      "metadata": {
        "colab": {
          "base_uri": "https://localhost:8080/",
          "height": 35
        },
        "id": "oUaTA05F6sEo",
        "outputId": "f6eb8015-30bd-4931-fb2c-3fbe05835fd0"
      },
      "source": [
        "re.findall(padrao, texto)[0]"
      ],
      "execution_count": 46,
      "outputs": [
        {
          "output_type": "execute_result",
          "data": {
            "application/vnd.google.colaboratory.intrinsic+json": {
              "type": "string"
            },
            "text/plain": [
              "'3'"
            ]
          },
          "metadata": {
            "tags": []
          },
          "execution_count": 46
        }
      ]
    },
    {
      "cell_type": "code",
      "metadata": {
        "colab": {
          "base_uri": "https://localhost:8080/",
          "height": 35
        },
        "id": "k8nfLfuC7xDT",
        "outputId": "aa348e9f-3bc5-461d-fdaf-9784672af5e4"
      },
      "source": [
        "linha_0"
      ],
      "execution_count": 47,
      "outputs": [
        {
          "output_type": "execute_result",
          "data": {
            "application/vnd.google.colaboratory.intrinsic+json": {
              "type": "string"
            },
            "text/plain": [
              "'90 m² construídos3 quartos'"
            ]
          },
          "metadata": {
            "tags": []
          },
          "execution_count": 47
        }
      ]
    },
    {
      "cell_type": "code",
      "metadata": {
        "colab": {
          "base_uri": "https://localhost:8080/",
          "height": 35
        },
        "id": "7uNZOi8f9Pfv",
        "outputId": "6df67a49-0011-4761-ef53-0d9facfabbd7"
      },
      "source": [
        "linha_0_vaq"
      ],
      "execution_count": 48,
      "outputs": [
        {
          "output_type": "execute_result",
          "data": {
            "application/vnd.google.colaboratory.intrinsic+json": {
              "type": "string"
            },
            "text/plain": [
              "'90 m² construídos'"
            ]
          },
          "metadata": {
            "tags": []
          },
          "execution_count": 48
        }
      ]
    },
    {
      "cell_type": "code",
      "metadata": {
        "colab": {
          "base_uri": "https://localhost:8080/"
        },
        "id": "-IxF1WqB45u-",
        "outputId": "de1c261b-e49e-46fa-efed-b20a7166886d"
      },
      "source": [
        "if 'quarto' in linha_0_vaq:\n",
        "  n_quartos = re.findall(padrao, linha_0_vaq)[0]\n",
        "  print(n_quartos)\n",
        "else:\n",
        "  print('não temos quartos')"
      ],
      "execution_count": 49,
      "outputs": [
        {
          "output_type": "stream",
          "text": [
            "não temos quartos\n"
          ],
          "name": "stdout"
        }
      ]
    },
    {
      "cell_type": "code",
      "metadata": {
        "id": "RESMEZiC4xjB"
      },
      "source": [
        "def extrair_quarto(entrada):\n",
        "\n",
        "  padrao = '(\\d+) quarto'\n",
        "  \n",
        "  if 'quarto' in entrada:\n",
        "    n_quartos = re.findall(padrao, entrada)[0]\n",
        "  else:\n",
        "    n_quartos = np.nan\n",
        "  \n",
        "  return n_quartos"
      ],
      "execution_count": 50,
      "outputs": []
    },
    {
      "cell_type": "code",
      "metadata": {
        "id": "iwp7q0KC9wiS"
      },
      "source": [
        "df_ml['quartos'] = df_ml['areas_quartos'].apply(extrair_quarto).astype(float) #.astype(int) pode não funcionar de primeira, dando erro por causa dos NaN"
      ],
      "execution_count": 51,
      "outputs": []
    },
    {
      "cell_type": "code",
      "metadata": {
        "colab": {
          "base_uri": "https://localhost:8080/",
          "height": 204
        },
        "id": "iC3XByT898r0",
        "outputId": "63980b09-6a5b-4891-aca0-643d44b799f1"
      },
      "source": [
        "df_ml.head()"
      ],
      "execution_count": 52,
      "outputs": [
        {
          "output_type": "execute_result",
          "data": {
            "text/html": [
              "<div>\n",
              "<style scoped>\n",
              "    .dataframe tbody tr th:only-of-type {\n",
              "        vertical-align: middle;\n",
              "    }\n",
              "\n",
              "    .dataframe tbody tr th {\n",
              "        vertical-align: top;\n",
              "    }\n",
              "\n",
              "    .dataframe thead th {\n",
              "        text-align: right;\n",
              "    }\n",
              "</style>\n",
              "<table border=\"1\" class=\"dataframe\">\n",
              "  <thead>\n",
              "    <tr style=\"text-align: right;\">\n",
              "      <th></th>\n",
              "      <th>zonas</th>\n",
              "      <th>areas_quartos</th>\n",
              "      <th>enderecos</th>\n",
              "      <th>precos</th>\n",
              "      <th>areas</th>\n",
              "      <th>quartos</th>\n",
              "    </tr>\n",
              "  </thead>\n",
              "  <tbody>\n",
              "    <tr>\n",
              "      <th>0</th>\n",
              "      <td>sul</td>\n",
              "      <td>90 m² construídos3 quartos</td>\n",
              "      <td>Rua Doutor Ferreira Lopes, Vila Sofia, São Pau...</td>\n",
              "      <td>1100.0</td>\n",
              "      <td>90.0</td>\n",
              "      <td>3.0</td>\n",
              "    </tr>\n",
              "    <tr>\n",
              "      <th>1</th>\n",
              "      <td>sul</td>\n",
              "      <td>63 m² construídos3 quartos</td>\n",
              "      <td>Avenida Dos Ourives, Jardim São Savério, São P...</td>\n",
              "      <td>1000.0</td>\n",
              "      <td>63.0</td>\n",
              "      <td>3.0</td>\n",
              "    </tr>\n",
              "    <tr>\n",
              "      <th>2</th>\n",
              "      <td>sul</td>\n",
              "      <td>68 m² construídos2 quartos</td>\n",
              "      <td>Rua Doutor Nicolau Alberto Defina, Jardim Da S...</td>\n",
              "      <td>1224.0</td>\n",
              "      <td>68.0</td>\n",
              "      <td>2.0</td>\n",
              "    </tr>\n",
              "    <tr>\n",
              "      <th>3</th>\n",
              "      <td>sul</td>\n",
              "      <td>48 m² construídos2 quartos</td>\n",
              "      <td>Avenida Carlos Liviero, Vila Liviero, São Paul...</td>\n",
              "      <td>1300.0</td>\n",
              "      <td>48.0</td>\n",
              "      <td>2.0</td>\n",
              "    </tr>\n",
              "    <tr>\n",
              "      <th>4</th>\n",
              "      <td>sul</td>\n",
              "      <td>40 m² construídos1 quarto</td>\n",
              "      <td>Rua Armando Ramos Filho, Moinho Velho, São Pau...</td>\n",
              "      <td>830.0</td>\n",
              "      <td>40.0</td>\n",
              "      <td>1.0</td>\n",
              "    </tr>\n",
              "  </tbody>\n",
              "</table>\n",
              "</div>"
            ],
            "text/plain": [
              "  zonas               areas_quartos  ... areas  quartos\n",
              "0   sul  90 m² construídos3 quartos  ...  90.0      3.0\n",
              "1   sul  63 m² construídos3 quartos  ...  63.0      3.0\n",
              "2   sul  68 m² construídos2 quartos  ...  68.0      2.0\n",
              "3   sul  48 m² construídos2 quartos  ...  48.0      2.0\n",
              "4   sul   40 m² construídos1 quarto  ...  40.0      1.0\n",
              "\n",
              "[5 rows x 6 columns]"
            ]
          },
          "metadata": {
            "tags": []
          },
          "execution_count": 52
        }
      ]
    },
    {
      "cell_type": "code",
      "metadata": {
        "id": "-6xedsf5-E6w"
      },
      "source": [
        "df_ml = df_ml.drop('areas_quartos', axis=1) #, inplace=True)\n",
        "# podemos rodar com o inplace que já executa direto no dado original, aconselho cautela"
      ],
      "execution_count": 53,
      "outputs": []
    },
    {
      "cell_type": "code",
      "metadata": {
        "colab": {
          "base_uri": "https://localhost:8080/",
          "height": 204
        },
        "id": "-rES8Vme-WCK",
        "outputId": "80fdad20-cb39-4a78-eb77-4b60314729dc"
      },
      "source": [
        "df_ml.head()"
      ],
      "execution_count": 54,
      "outputs": [
        {
          "output_type": "execute_result",
          "data": {
            "text/html": [
              "<div>\n",
              "<style scoped>\n",
              "    .dataframe tbody tr th:only-of-type {\n",
              "        vertical-align: middle;\n",
              "    }\n",
              "\n",
              "    .dataframe tbody tr th {\n",
              "        vertical-align: top;\n",
              "    }\n",
              "\n",
              "    .dataframe thead th {\n",
              "        text-align: right;\n",
              "    }\n",
              "</style>\n",
              "<table border=\"1\" class=\"dataframe\">\n",
              "  <thead>\n",
              "    <tr style=\"text-align: right;\">\n",
              "      <th></th>\n",
              "      <th>zonas</th>\n",
              "      <th>enderecos</th>\n",
              "      <th>precos</th>\n",
              "      <th>areas</th>\n",
              "      <th>quartos</th>\n",
              "    </tr>\n",
              "  </thead>\n",
              "  <tbody>\n",
              "    <tr>\n",
              "      <th>0</th>\n",
              "      <td>sul</td>\n",
              "      <td>Rua Doutor Ferreira Lopes, Vila Sofia, São Pau...</td>\n",
              "      <td>1100.0</td>\n",
              "      <td>90.0</td>\n",
              "      <td>3.0</td>\n",
              "    </tr>\n",
              "    <tr>\n",
              "      <th>1</th>\n",
              "      <td>sul</td>\n",
              "      <td>Avenida Dos Ourives, Jardim São Savério, São P...</td>\n",
              "      <td>1000.0</td>\n",
              "      <td>63.0</td>\n",
              "      <td>3.0</td>\n",
              "    </tr>\n",
              "    <tr>\n",
              "      <th>2</th>\n",
              "      <td>sul</td>\n",
              "      <td>Rua Doutor Nicolau Alberto Defina, Jardim Da S...</td>\n",
              "      <td>1224.0</td>\n",
              "      <td>68.0</td>\n",
              "      <td>2.0</td>\n",
              "    </tr>\n",
              "    <tr>\n",
              "      <th>3</th>\n",
              "      <td>sul</td>\n",
              "      <td>Avenida Carlos Liviero, Vila Liviero, São Paul...</td>\n",
              "      <td>1300.0</td>\n",
              "      <td>48.0</td>\n",
              "      <td>2.0</td>\n",
              "    </tr>\n",
              "    <tr>\n",
              "      <th>4</th>\n",
              "      <td>sul</td>\n",
              "      <td>Rua Armando Ramos Filho, Moinho Velho, São Pau...</td>\n",
              "      <td>830.0</td>\n",
              "      <td>40.0</td>\n",
              "      <td>1.0</td>\n",
              "    </tr>\n",
              "  </tbody>\n",
              "</table>\n",
              "</div>"
            ],
            "text/plain": [
              "  zonas                                          enderecos  ...  areas  quartos\n",
              "0   sul  Rua Doutor Ferreira Lopes, Vila Sofia, São Pau...  ...   90.0      3.0\n",
              "1   sul  Avenida Dos Ourives, Jardim São Savério, São P...  ...   63.0      3.0\n",
              "2   sul  Rua Doutor Nicolau Alberto Defina, Jardim Da S...  ...   68.0      2.0\n",
              "3   sul  Avenida Carlos Liviero, Vila Liviero, São Paul...  ...   48.0      2.0\n",
              "4   sul  Rua Armando Ramos Filho, Moinho Velho, São Pau...  ...   40.0      1.0\n",
              "\n",
              "[5 rows x 5 columns]"
            ]
          },
          "metadata": {
            "tags": []
          },
          "execution_count": 54
        }
      ]
    },
    {
      "cell_type": "code",
      "metadata": {
        "id": "_eHnty07_Shi"
      },
      "source": [
        "df_ml.to_csv('dados_tratados_mercado_livre.csv', index=False)"
      ],
      "execution_count": 55,
      "outputs": []
    },
    {
      "cell_type": "markdown",
      "metadata": {
        "id": "Asp7ielLDFMm"
      },
      "source": [
        "## Extra: exemplo sobre zip"
      ]
    },
    {
      "cell_type": "code",
      "metadata": {
        "id": "3jNkZKDfC6Gl"
      },
      "source": [
        "lista_numeros = [1, 2, 3, 4]\n",
        "lista_alimentos = ['banana', 'maca', 'feijao', 'arroz']"
      ],
      "execution_count": 56,
      "outputs": []
    },
    {
      "cell_type": "code",
      "metadata": {
        "colab": {
          "base_uri": "https://localhost:8080/"
        },
        "id": "6iTLJymvDJhr",
        "outputId": "5b9186b3-7900-4519-c626-9db06c44b090"
      },
      "source": [
        "lista_numeros"
      ],
      "execution_count": 57,
      "outputs": [
        {
          "output_type": "execute_result",
          "data": {
            "text/plain": [
              "[1, 2, 3, 4]"
            ]
          },
          "metadata": {
            "tags": []
          },
          "execution_count": 57
        }
      ]
    },
    {
      "cell_type": "code",
      "metadata": {
        "colab": {
          "base_uri": "https://localhost:8080/"
        },
        "id": "utc5iu2sDLcR",
        "outputId": "4060f3be-7f50-4eb4-d9e0-e0922c3d5a18"
      },
      "source": [
        "lista_alimentos"
      ],
      "execution_count": 58,
      "outputs": [
        {
          "output_type": "execute_result",
          "data": {
            "text/plain": [
              "['banana', 'maca', 'feijao', 'arroz']"
            ]
          },
          "metadata": {
            "tags": []
          },
          "execution_count": 58
        }
      ]
    },
    {
      "cell_type": "code",
      "metadata": {
        "colab": {
          "base_uri": "https://localhost:8080/"
        },
        "id": "fAh7iO1hDODp",
        "outputId": "fb02b4c8-5ab1-4640-bb2a-9d7b4c402bf0"
      },
      "source": [
        "for numero in lista_numeros:\n",
        "  print(numero)"
      ],
      "execution_count": 59,
      "outputs": [
        {
          "output_type": "stream",
          "text": [
            "1\n",
            "2\n",
            "3\n",
            "4\n"
          ],
          "name": "stdout"
        }
      ]
    },
    {
      "cell_type": "code",
      "metadata": {
        "colab": {
          "base_uri": "https://localhost:8080/"
        },
        "id": "jglWxZFnDmyD",
        "outputId": "f529f25b-bb66-4855-84c8-b3d4c380ca57"
      },
      "source": [
        "for alimento in lista_alimentos:\n",
        "  #print(alimento + str(2)) -- essa é uma linha de comentário e ela será ignorada pelo Python\n",
        "  print(alimento)"
      ],
      "execution_count": 60,
      "outputs": [
        {
          "output_type": "stream",
          "text": [
            "banana\n",
            "maca\n",
            "feijao\n",
            "arroz\n"
          ],
          "name": "stdout"
        }
      ]
    },
    {
      "cell_type": "code",
      "metadata": {
        "colab": {
          "base_uri": "https://localhost:8080/"
        },
        "id": "-glqG5KfEfnb",
        "outputId": "1eb89bdd-25dd-49cf-f2f1-04094fa93c33"
      },
      "source": [
        "for numero, alimento in zip(lista_numeros, lista_alimentos):\n",
        "  print(numero, alimento)"
      ],
      "execution_count": 61,
      "outputs": [
        {
          "output_type": "stream",
          "text": [
            "1 banana\n",
            "2 maca\n",
            "3 feijao\n",
            "4 arroz\n"
          ],
          "name": "stdout"
        }
      ]
    }
  ]
}