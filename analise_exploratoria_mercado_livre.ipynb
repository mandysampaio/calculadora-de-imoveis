{
  "nbformat": 4,
  "nbformat_minor": 0,
  "metadata": {
    "colab": {
      "name": "analise-exploratoria-mercado-livre.ipynb",
      "provenance": [],
      "authorship_tag": "ABX9TyNd2KUwaIMDQqcqkaW7Q+Te",
      "include_colab_link": true
    },
    "kernelspec": {
      "name": "python3",
      "display_name": "Python 3"
    }
  },
  "cells": [
    {
      "cell_type": "markdown",
      "metadata": {
        "id": "view-in-github",
        "colab_type": "text"
      },
      "source": [
        "<a href=\"https://colab.research.google.com/github/mandysampaio/calculadora-de-imoveis/blob/main/analise_exploratoria_mercado_livre.ipynb\" target=\"_parent\"><img src=\"https://colab.research.google.com/assets/colab-badge.svg\" alt=\"Open In Colab\"/></a>"
      ]
    },
    {
      "cell_type": "code",
      "metadata": {
        "id": "VRy-y6Uz9YI-"
      },
      "source": [
        "# dados\r\n",
        "# importar dados usando o pandas\r\n",
        "import pandas as pd\r\n",
        "url = 'https://raw.githubusercontent.com/cassiasamp/calculadora-de-imoveis-out-20/main/coleta-de-dados/dados_tratados_mercado_livre.csv'\r\n",
        "\r\n"
      ],
      "execution_count": 2,
      "outputs": []
    },
    {
      "cell_type": "code",
      "metadata": {
        "id": "TGqy9rFn9t27"
      },
      "source": [
        "df = pd.read_csv(url)"
      ],
      "execution_count": 10,
      "outputs": []
    },
    {
      "cell_type": "code",
      "metadata": {
        "colab": {
          "base_uri": "https://localhost:8080/",
          "height": 204
        },
        "id": "KSgo8Qd0-oQT",
        "outputId": "adc5a2bc-5836-414f-b4bc-f5a85ed2aeba"
      },
      "source": [
        "df.head(5)"
      ],
      "execution_count": 12,
      "outputs": [
        {
          "output_type": "execute_result",
          "data": {
            "text/html": [
              "<div>\n",
              "<style scoped>\n",
              "    .dataframe tbody tr th:only-of-type {\n",
              "        vertical-align: middle;\n",
              "    }\n",
              "\n",
              "    .dataframe tbody tr th {\n",
              "        vertical-align: top;\n",
              "    }\n",
              "\n",
              "    .dataframe thead th {\n",
              "        text-align: right;\n",
              "    }\n",
              "</style>\n",
              "<table border=\"1\" class=\"dataframe\">\n",
              "  <thead>\n",
              "    <tr style=\"text-align: right;\">\n",
              "      <th></th>\n",
              "      <th>zonas</th>\n",
              "      <th>enderecos</th>\n",
              "      <th>precos</th>\n",
              "      <th>areas</th>\n",
              "      <th>quartos</th>\n",
              "    </tr>\n",
              "  </thead>\n",
              "  <tbody>\n",
              "    <tr>\n",
              "      <th>0</th>\n",
              "      <td>sul</td>\n",
              "      <td>Rua Doutor Ferreira Lopes, Vila Sofia, São Pau...</td>\n",
              "      <td>1100.0</td>\n",
              "      <td>90.0</td>\n",
              "      <td>3.0</td>\n",
              "    </tr>\n",
              "    <tr>\n",
              "      <th>1</th>\n",
              "      <td>sul</td>\n",
              "      <td>Avenida Dos Ourives, Jardim São Savério, São P...</td>\n",
              "      <td>1000.0</td>\n",
              "      <td>63.0</td>\n",
              "      <td>3.0</td>\n",
              "    </tr>\n",
              "    <tr>\n",
              "      <th>2</th>\n",
              "      <td>sul</td>\n",
              "      <td>Rua Doutor Nicolau Alberto Defina, Jardim Da S...</td>\n",
              "      <td>1224.0</td>\n",
              "      <td>68.0</td>\n",
              "      <td>2.0</td>\n",
              "    </tr>\n",
              "    <tr>\n",
              "      <th>3</th>\n",
              "      <td>sul</td>\n",
              "      <td>Avenida Carlos Liviero, Vila Liviero, São Paul...</td>\n",
              "      <td>1300.0</td>\n",
              "      <td>48.0</td>\n",
              "      <td>2.0</td>\n",
              "    </tr>\n",
              "    <tr>\n",
              "      <th>4</th>\n",
              "      <td>sul</td>\n",
              "      <td>Rua Armando Ramos Filho, Moinho Velho, São Pau...</td>\n",
              "      <td>830.0</td>\n",
              "      <td>40.0</td>\n",
              "      <td>1.0</td>\n",
              "    </tr>\n",
              "  </tbody>\n",
              "</table>\n",
              "</div>"
            ],
            "text/plain": [
              "  zonas                                          enderecos  ...  areas  quartos\n",
              "0   sul  Rua Doutor Ferreira Lopes, Vila Sofia, São Pau...  ...   90.0      3.0\n",
              "1   sul  Avenida Dos Ourives, Jardim São Savério, São P...  ...   63.0      3.0\n",
              "2   sul  Rua Doutor Nicolau Alberto Defina, Jardim Da S...  ...   68.0      2.0\n",
              "3   sul  Avenida Carlos Liviero, Vila Liviero, São Paul...  ...   48.0      2.0\n",
              "4   sul  Rua Armando Ramos Filho, Moinho Velho, São Pau...  ...   40.0      1.0\n",
              "\n",
              "[5 rows x 5 columns]"
            ]
          },
          "metadata": {
            "tags": []
          },
          "execution_count": 12
        }
      ]
    },
    {
      "cell_type": "code",
      "metadata": {
        "colab": {
          "base_uri": "https://localhost:8080/",
          "height": 142
        },
        "id": "W0OCMfOb_BbG",
        "outputId": "db997f5b-3a36-44b9-acbf-6def89347ec0"
      },
      "source": [
        "df.describe().T"
      ],
      "execution_count": 14,
      "outputs": [
        {
          "output_type": "execute_result",
          "data": {
            "text/html": [
              "<div>\n",
              "<style scoped>\n",
              "    .dataframe tbody tr th:only-of-type {\n",
              "        vertical-align: middle;\n",
              "    }\n",
              "\n",
              "    .dataframe tbody tr th {\n",
              "        vertical-align: top;\n",
              "    }\n",
              "\n",
              "    .dataframe thead th {\n",
              "        text-align: right;\n",
              "    }\n",
              "</style>\n",
              "<table border=\"1\" class=\"dataframe\">\n",
              "  <thead>\n",
              "    <tr style=\"text-align: right;\">\n",
              "      <th></th>\n",
              "      <th>count</th>\n",
              "      <th>mean</th>\n",
              "      <th>std</th>\n",
              "      <th>min</th>\n",
              "      <th>25%</th>\n",
              "      <th>50%</th>\n",
              "      <th>75%</th>\n",
              "      <th>max</th>\n",
              "    </tr>\n",
              "  </thead>\n",
              "  <tbody>\n",
              "    <tr>\n",
              "      <th>precos</th>\n",
              "      <td>960.0</td>\n",
              "      <td>2500.155208</td>\n",
              "      <td>1796.766329</td>\n",
              "      <td>500.0</td>\n",
              "      <td>1354.5</td>\n",
              "      <td>1963.5</td>\n",
              "      <td>2986.25</td>\n",
              "      <td>15000.0</td>\n",
              "    </tr>\n",
              "    <tr>\n",
              "      <th>areas</th>\n",
              "      <td>960.0</td>\n",
              "      <td>81.677083</td>\n",
              "      <td>67.986120</td>\n",
              "      <td>13.0</td>\n",
              "      <td>48.0</td>\n",
              "      <td>63.0</td>\n",
              "      <td>87.00</td>\n",
              "      <td>700.0</td>\n",
              "    </tr>\n",
              "    <tr>\n",
              "      <th>quartos</th>\n",
              "      <td>958.0</td>\n",
              "      <td>2.049061</td>\n",
              "      <td>0.902044</td>\n",
              "      <td>1.0</td>\n",
              "      <td>1.0</td>\n",
              "      <td>2.0</td>\n",
              "      <td>3.00</td>\n",
              "      <td>8.0</td>\n",
              "    </tr>\n",
              "  </tbody>\n",
              "</table>\n",
              "</div>"
            ],
            "text/plain": [
              "         count         mean          std  ...     50%      75%      max\n",
              "precos   960.0  2500.155208  1796.766329  ...  1963.5  2986.25  15000.0\n",
              "areas    960.0    81.677083    67.986120  ...    63.0    87.00    700.0\n",
              "quartos  958.0     2.049061     0.902044  ...     2.0     3.00      8.0\n",
              "\n",
              "[3 rows x 8 columns]"
            ]
          },
          "metadata": {
            "tags": []
          },
          "execution_count": 14
        }
      ]
    },
    {
      "cell_type": "code",
      "metadata": {
        "colab": {
          "base_uri": "https://localhost:8080/"
        },
        "id": "pCRkd0yx_Gzq",
        "outputId": "c1763efb-0d39-4108-edd7-a8a160273bcb"
      },
      "source": [
        "df.dtypes"
      ],
      "execution_count": 16,
      "outputs": [
        {
          "output_type": "execute_result",
          "data": {
            "text/plain": [
              "zonas         object\n",
              "enderecos     object\n",
              "precos       float64\n",
              "areas        float64\n",
              "quartos      float64\n",
              "dtype: object"
            ]
          },
          "metadata": {
            "tags": []
          },
          "execution_count": 16
        }
      ]
    },
    {
      "cell_type": "code",
      "metadata": {
        "colab": {
          "base_uri": "https://localhost:8080/"
        },
        "id": "8Ck6KFla_xuI",
        "outputId": "064a0b68-ce11-430f-bd54-79845e393676"
      },
      "source": [
        "df.info()"
      ],
      "execution_count": 17,
      "outputs": [
        {
          "output_type": "stream",
          "text": [
            "<class 'pandas.core.frame.DataFrame'>\n",
            "RangeIndex: 960 entries, 0 to 959\n",
            "Data columns (total 5 columns):\n",
            " #   Column     Non-Null Count  Dtype  \n",
            "---  ------     --------------  -----  \n",
            " 0   zonas      960 non-null    object \n",
            " 1   enderecos  960 non-null    object \n",
            " 2   precos     960 non-null    float64\n",
            " 3   areas      960 non-null    float64\n",
            " 4   quartos    958 non-null    float64\n",
            "dtypes: float64(3), object(2)\n",
            "memory usage: 37.6+ KB\n"
          ],
          "name": "stdout"
        }
      ]
    },
    {
      "cell_type": "code",
      "metadata": {
        "id": "zHXgVck5_3Wi"
      },
      "source": [
        "# perguntas/hipóteses para os dados \r\n",
        "# 1. qual a relação entre preço e no de quartos\r\n",
        "# 2. relação entre preços e zonas/regiões\r\n"
      ],
      "execution_count": null,
      "outputs": []
    }
  ]
}